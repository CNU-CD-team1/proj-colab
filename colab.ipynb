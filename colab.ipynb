# 사전 세팅 

#!pip install diffusers==0.10.2 transformers scipy ftfy accelerate 
!pip install --upgrade diffusers transformers accelerate safetensors

!pip install flask-ngrok

# Schedule 라이브러리 설치
!pip install schedule
!pip install apscheduler

from google.colab import drive
drive.mount('/content/gdrive')

!mkdir -p /drive/ngrok-ssh
%cd /drive/ngrok-ssh
!wget https://bin.equinox.io/c/4VmDzA7iaHb/ngrok-stable-linux-amd64.zip -O ngrok-stable-linux-amd64.zip
!unzip -u ngrok-stable-linux-amd64.zip
!cp /drive/ngrok-ssh/ngrok /ngrok
!chmod +x /ngrok

!/ngrok authtoken 2PcuveP5pj4f313ozPswzpx5TBd_3hY1ow5VDW7kJ8DKMFsic # 자신이 생성한 토큰 입력


# 프로그램 돌리는 부분 
from flask import Flask
from flask_ngrok import run_with_ngrok
from flask import Flask, render_template, send_file, request

import torch
from diffusers import StableDiffusionPipeline, DEISMultistepScheduler

import base64
from io import BytesIO

import psycopg2

# 타이머 import
import schedule
import time
from apscheduler.schedulers.background import BackgroundScheduler
import atexit


# pipe = StableDiffusionPipeline.from_pretrained("runwayml/stable-diffusion-v1-5", revision="fp16", torch_dtype=torch.float16)
# Ojimi/anime-kawai-diffusion --> 애니 스타일 잘 나오게 하는 모델
model_id = "dreamlike-art/dreamlike-anime-1.0"
pipe = StableDiffusionPipeline.from_pretrained(model_id, torch_dtype=torch.float16, use_safetensors=True)

pipe.to("cuda")

app = Flask(__name__, template_folder='/content/gdrive/MyDrive/project/templates/', static_folder='/content/gdrive/MyDrive/project/static', 
            static_url_path='/static')

run_with_ngrok(app)

@app.route('/')
def view_main():
    return render_template('index.html')


@app.route('/drawing')
def initial():
    # 이미지 URL 목록을 생성하거나 가져옴
    generated_image = [
        'static/images/default.png',
        'static/images/default.png',
        'static/images/default.png',
        'static/images/default.png'
    ]
    return render_template('drawing.html', generated_image=generated_image)

@app.route('/submit-caption', methods=['POST'])
def generate_image() :
    global img_str 
    global prompt 

    img_str = []
    # 이부분 "디즈니" 버튼 누른경우, 디즈니관련 프롬프트 추가되게 바꿀수도 있을듯 IF 문 쓰고 해서.. 
    pos_prompt = ', best quality, extremely detailed, 4k, hd, beautiful'
    neg_prompt = 'simple background, duplicate, retro style, low quality, lowest quality, bad anatomy, bad proportions, extra digits, lowres, username, artist name, error, duplicate, watermark, signature, text, extra digit, fewer digits, worst quality, jpeg artifacts'

    prompt = request.form['caption-input']
    print(f"Generating an image of {prompt}")
  
    all_prompt = prompt + pos_prompt

    # 이미지 4개 생성
    global imageList
    imageList = []
    for i in range (4) :
        image = pipe(prompt=all_prompt, negative_prompt = neg_prompt).images[0]
        print("Image generated! Converting image ...")

        buffered = BytesIO()
        image.save(buffered, format="PNG")

        img_str.append(base64.b64encode(buffered.getvalue()).decode('utf-8'))
        # img_str = base64.b64encode(buffered.getvalue()).decode('utf-8')
        
        imageName = "data:image/png;base64," + img_str[i] #imageName = "data:image/png;base64," + img_str
        imageList.append(imageName)

        print(buffered)

    print("Sending image ...")
    return render_template('drawing.html', generated_image=imageList)




# 첫컷 생성 버튼 눌렀을때 동작 ( 작품 새로 생성 ) -> posts 도 하나 생성 & cuts 도 하나 생성  
# 코드리뷰해보고 좀 정리해야할필요 있을듯.. 
@app.route('/save_image_first', methods=['POST']) ##### 테스팅 완료
##네컷중에 하나만 db에 저장하는 구문 
 #(이미지만 cuts랑 posts 테이블에 저장하고,, 그 cuts id를 가져옴 )
def save_imgae_first(): # 테스팅 완료 
  #첫컷인 경우
  if request.form.get('action2') == '이 컷으로 만들기':# get('name') = 'value' 형으로 적어야하는듯 

    #4개중 한개 선택된 이미지의 인덱스값을 변수에 저장하는 부분 -> modify 페이지 생기면 수정 필요한 부분...(4개중 1개 선택하지 않고 이전 페이지에서 값을 받아오므로)
    num=request.form.get('selected_image')
    num = int(num)
    #print(img_str[num])

    conn = psycopg2.connect(dbname='cnu_capstoneDB', user='root', password='root', host='svc.sel4.cloudtype.app', port=31127)
    cur = conn.cursor()

    title = "생성중입니다."

    #posts 테이블에 작품 명 업로드 
    cur.execute("INSERT INTO posts (post_name) VALUES (%s)", (title,))

    # 방금 저장한거의 posts id 번호가져오기
    cur.execute("SELECT currval(pg_get_serial_sequence('posts', 'post_no'))")
    result = cur.fetchone()

    if result is not None:
        postNumber = result[0]
    else:
    # Handle the case when no result is fetched
      print("방금 생성된 작품(post)id 호출 오류")

    conn.commit() # 데이터베이스에 대한 변경 사항을 저장하는 역할


    print(postNumber)
    postNumber = str(postNumber)
    encoded_image = img_str[num]

    #cuts 테이블에 1. post_no 가져온것  + 2. 한컷 이미지 + 3. 프롬프트값 + 4.컷순서(1)    업로드  
    cur.execute("INSERT INTO cuts (post_no, img, cut_prompt,cut_order) VALUES (%s,%s,%s,%s)", (postNumber,encoded_image,prompt,str(1))) 
    
    # 방금 저장한거의 cuts id 번호가져오기
    cur.execute("SELECT currval(pg_get_serial_sequence('cuts', 'cut_no'))")
    
    # cutId 를 global 변수로 선언하고, cut_id 를 넣음 
    global cutId ;
    result = cur.fetchone()

    if result is not None:
        cutId = result[0]
    else:
    # Handle the case when no result is fetched
      print("방금 생성된 컷 id 호출 오류")
      cutId= -1

    conn.commit() # 데이터베이스에 대한 변경 사항을 저장하는 역할

    # 데이터베이스에 대한 변경 사항을 저장하는 역할
    conn.commit()

    cur.close()
    conn.close()

    return render_template('first_modify.html',image_data=encoded_image,cut_no = cutId) #방금 생성한 컷 id도 html로 같이 넘겨줌 


# first_modify 에서 저장할때 ( posts 네임 수정 & cut description 수정 )
# 제목 및 컷내용 저장
@app.route('/save_detail_first', methods=['POST'])
def save_detail_first():
  if request.form.get('action3') == 'S A V E': ### 이부분 다시 확인 .. 
    conn = psycopg2.connect(dbname='cnu_capstoneDB', user='root', password='root', host='svc.sel4.cloudtype.app', port=31127)
    cur = conn.cursor()

    # 컷 id 출력 확인 
    print(cutId)
    cutNumber = str(cutId)

    # 해당컷의 post_no(컷의 post_no) 가져오기
    cur.execute("SELECT post_no FROM cuts WHERE cut_no = %s", (cutNumber,))
    result = cur.fetchone()

    if result is not None:
      postNumber = result[0]
    else:
    # Handle the case when no result is fetched
      raise ValueError("해당 컷의 post_no 호출 오류")

    conn.commit() # 데이터베이스에 대한 변경 사항을 저장하는 역할


    # 작품 id 출력 확인 
    print(postNumber)
    postNumber = str(postNumber)

    #제목 불러오기 
    title = request.form['title-input']
    # posts 테이블에 작품 명 업로드 update
    cur.execute("UPDATE posts SET post_name = %s WHERE post_no=%s", (title,postNumber))

    conn.commit() # 데이터베이스에 대한 변경 사항을 저장하는 역할

    #컷설명 불러오기 
    cutScript = request.form['cut-input']
    print(cutScript)
    cutScript = str(cutScript)
    # cut id=***인 테이블에 컷설명 업로드
    cur.execute("UPDATE cuts SET cut_script = %s WHERE cut_no=%s", (cutScript,cutNumber))

    conn.commit()

    cur.close()
    conn.close()

    return render_template('gallery_ing.html')

# Define custom filter for Base64 encoding
@app.template_filter('b64encode')
def base64_encode(value):
    return base64.b64encode(value).decode('utf-8')


# 진행작 불러오기
@app.route('/gallery_ing')
def display_gallery_ing():
    conn = psycopg2.connect(dbname='cnu_capstoneDB', user='root', password='root', host='svc.sel4.cloudtype.app', port=31127)
    cur = conn.cursor()

    cur.execute("select a.post_no, a.post_name, a.like_num, b.img from posts as a join cuts as b on a.post_no = b.post_no where a.is_done not in (5) and b.cut_order = 1 order by post_no desc;")

    posts = cur.fetchall()

    post_no_list = []
    post_name_list = []
    like_num_list = []
    img_list = []

    for post in posts:
      post_no_list.append(post[0])
      post_name_list.append(post[1])
      like_num_list.append(post[2])
      img_list.append(base64.b64decode(post[3]))

    #print(post_no_list)
    #print(post_name_list)
    #print(like_num_list)
    #print(img_list)

    cur.close()
    conn.close()

    return render_template('gallery_ing.html', ids=post_no_list, titles=post_name_list, images=img_list,  likes=like_num_list)

# 완성작 보여주기
@app.route('/gallery_end')
def display_gallery_end():
    conn = psycopg2.connect(dbname='cnu_capstoneDB', user='root', password='root', host='svc.sel4.cloudtype.app', port=31127)
    cur = conn.cursor()

    cur.execute("select a.post_no, a.post_name, a.like_num, b.img from posts as a join cuts as b on a.post_no = b.post_no where a.is_done in (5) and b.cut_order = 1 order by post_no desc;")

    posts = cur.fetchall()

    post_no_list = []
    post_name_list = []
    like_num_list = []
    img_list = []

    for post in posts:
      post_no_list.append(post[0])
      post_name_list.append(post[1])
      like_num_list.append(post[2])
      img_list.append(base64.b64decode(post[3]))


    #print(post_no_list)
    #print(post_name_list)
    #print(like_num_list)
    #print(img_list)

    cur.close()
    conn.close()

    return render_template('gallery_end.html', ids=post_no_list, titles=post_name_list, images=img_list,  likes=like_num_list)    

'''
@app.route('/post_ing')
def view_post():
    return render_template('post_ing.html')
'''

# 진행작 작품 디테일
@app.route('/post_ing', methods=['GET'])
def post_ing_details():
    id = request.args.get('selected_post') # request가 get일 경우 정보를 가져올때 request.args.get / post일 경우 request.form.get
    id = int(id)

    conn = psycopg2.connect(dbname='cnu_capstoneDB', user='root', password='root', host='svc.sel4.cloudtype.app', port=31127)
    cur = conn.cursor()

        # fix 된 이미지 불러오기 

    cur.execute("select cut_no, img, vote_num, cut_prompt, cut_order from cuts where post_no = %s and cut_fixed = true order by cut_order",(id,))

    fixed_cuts = cur.fetchall()

    #print(fixed_cuts)

    cut_no_list = []
    img_list = []
    vote_num_list = []
    cut_prompt_list = []
    cut_order_list = []

    for fixed_cut in fixed_cuts: 
      cut_no_list.append(fixed_cut[0])
      img_list.append(base64.b64decode(fixed_cut[1]))
      vote_num_list.append(fixed_cut[2])
      cut_prompt_list.append(fixed_cut[3])
      cut_order_list.append(fixed_cut[4])

    # 받아온 id값에 따른 제목 뜨는지 확인 완료
    cur.execute("select post_name from posts where post_no = %s",(id,)) 
    title = cur.fetchone()

    #print(cut_no_list)
    #print(img_list)
    #print(vote_num_list)
    #print(cut_prompt_list)
    #print(cut_order_list)

    cur.close()
    conn.close()

    return render_template('post_ing.html', ids=cut_no_list, images=img_list, votes =vote_num_list, prompts=cut_prompt_list, orders=cut_order_list, title=title, id=id)


@app.route('/next_drawing')
def view_page():
    generated_image = [
        'static/images/default.png',
        'static/images/default.png',
        'static/images/default.png',
        'static/images/default.png'
    ]
    return render_template('next_drawing.html', generated_image=generated_image)

# 완성작 작품 디테일
@app.route('/post_end', methods=['GET'])
def post_end_details():
    id = request.args.get('selected_post') # request가 get일 경우 정보를 가져올때 request.args.get / post일 경우 request.form.get
    id = int(id)

    conn = psycopg2.connect(dbname='cnu_capstoneDB', user='root', password='root', host='svc.sel4.cloudtype.app', port=31127)
    cur = conn.cursor()

        # fix 된 이미지 불러오기 

    cur.execute("select cut_no, img, vote_num, cut_prompt, cut_order, cut_script from cuts where post_no = %s and cut_fixed = true order by cut_order",(id,))

    fixed_cuts = cur.fetchall()

    #print(fixed_cuts)

    cut_no_list = []
    img_list = []
    vote_num_list = []
    cut_prompt_list = []
    cut_order_list = []
    cut_script_list = []

    for fixed_cut in fixed_cuts: 
      cut_no_list.append(fixed_cut[0])
      img_list.append(base64.b64decode(fixed_cut[1]))
      vote_num_list.append(fixed_cut[2])
      cut_prompt_list.append(fixed_cut[3])
      cut_order_list.append(fixed_cut[4])
      cut_script_list.append(fixed_cut[5])

    #print(cut_no_list)
    #print(img_list)
    #print(vote_num_list)
    #print(cut_prompt_list)
    #print(cut_order_list)
    cur.execute("select post_name from posts where post_no = %s",(id,)) 
    title = cur.fetchone()

    cur.close()
    conn.close()

    return render_template('post_end.html', ids=cut_no_list, images=img_list, votes =vote_num_list, prompts=cut_prompt_list, orders=cut_order_list, scripts=cut_script_list, id=id, title=title)


#### 작품 좋아요수 증가시키는 코드 1 (수정필요)
#@app.route('/updateLike', methods=['POST'])
#def update_like():
#    conn = psycopg2.connect(dbname='cnu_capstoneDB', user='root', password='root', host='svc.sel4.cloudtype.app', port=31127)
#    cur = conn.cursor()
#
#    image_id = request.json.get('imageId')
#    print('이미지아이디-포스트아이디 맞는지 확인해봐야함 ',image_id)
#    liked = request.json.get('liked')
#    cur.execute("SELECT img FROM cuts WHERE post_no = %s", (image_id,))
#    image = cur.fetchone()  # fetchone()으로 이미지 데이터 가져오기
#
#    if image:
#        if liked:
#            cur.execute("UPDATE posts SET like_num = like_num - 1 WHERE post_no = %s;", (image_id,))  # 좋아요 취소: 값 감소
#        else:
#            cur.execute("UPDATE posts SET like_num = like_num + 1 WHERE post_no = %s;", (image_id,))  # 좋아요: 값 증가
#        conn.commit()
#        cur.execute("SELECT like_num FROM posts WHERE post_no = %s;", (image_id,))
#        likes = cur.fetchone()[0]  # fetchone()으로 좋아요 수 가져오기
#        cur.close()
#        conn.close()
#        return jsonify({'success': True, 'likes': likes})
#    else:
#        cur.close()
#        conn.close()
#        return jsonify({'success': False, 'message': 'Image not found'})




#def renewal():
#    conn = psycopg2.connect(dbname='cnu_capstoneDB', user='root', password='root', host='svc.sel4.cloudtype.app', port=31127)
#    cur = conn.cursor()
#
#
#    cur.execute("select post_no, is_done from posts where is_done in('2', '3', '4')")
#    datas = cur.fetchall() 
#
#    post_no_list = []
#    cut_order_list = []
#
#    print(datas)
#
#    
#    for data in datas:
#
#        post_no = int(data[0])
#        cut_order = int(data[1])
#
#        cur.execute(f"update cuts set cut_fixed = true where vote_num = (select max(vote_num) from cuts where post_no = {post_no} and cut_order = {cut_order})")
#
#    cur.execute("update posts set is_done = posts.is_done + 1 where is_done in('2', '3', '4')")
#
#    conn.commit()
#
#    cur.close()
#    conn.close()
#
#scheduler = BackgroundScheduler()
#scheduler.add_job(func=renewal, trigger="interval", seconds=20)
#scheduler.start()
#
# Shut down the scheduler when exiting the app
#atexit.register(lambda: scheduler.shutdown())

if __name__ == "__main__":
    app.run()
