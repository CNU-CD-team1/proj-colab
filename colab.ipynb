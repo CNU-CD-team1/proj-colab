
pip install diffusers==0.10.2 transformers scipy ftfy accelerate 

!pip install flask-ngrok

from google.colab import drive
drive.mount('/content/gdrive')

!mkdir -p /drive/ngrok-ssh
%cd /drive/ngrok-ssh
!wget https://bin.equinox.io/c/4VmDzA7iaHb/ngrok-stable-linux-amd64.zip -O ngrok-stable-linux-amd64.zip
!unzip -u ngrok-stable-linux-amd64.zip
!cp /drive/ngrok-ssh/ngrok /ngrok
!chmod +x /ngrok

!/ngrok authtoken 2PcydNXb0iMIztuXfz5JaCkVipv_27RqfVDiAwdQSJvKvZktC # 자신이 생성한 토큰 입력

from flask import Flask
from flask_ngrok import run_with_ngrok
from flask import Flask, render_template, send_file, request

import torch
from diffusers import StableDiffusionPipeline

import base64
from io import BytesIO

import psycopg2

pipe = StableDiffusionPipeline.from_pretrained("runwayml/stable-diffusion-v1-5", revision="fp16", torch_dtype=torch.float16)
pipe.to("cuda")

app = Flask(__name__, template_folder='/content/gdrive/MyDrive/project/templates/', static_folder='/content/gdrive/MyDrive/project/static', 
            static_url_path='/static')

run_with_ngrok(app)

@app.route('/')
def view_main():
    return render_template('index.html')


@app.route('/drawing')
def initial():
    # 이미지 URL 목록을 생성하거나 가져옴
    generated_image = [
        'static/images/default.png',
        'static/images/default.png',
        'static/images/default.png',
        'static/images/default.png'
    ]
    return render_template('drawing.html', generated_image=generated_image)

@app.route('/submit-caption', methods=['POST'])
def generate_image() :
    global img_str 
    img_str = []

    pos_prompt = ', best quality, extremely detailed, 4k, hd, beautiful'
    neg_prompt = 'monochrome, lowres, bad anatomy, worst quality, low quality'

    prompt = request.form['caption-input']
    print(f"Generating an image of {prompt}")

    all_prompt = prompt + pos_prompt

    # 이미지 4개 생성
    global imageList
    imageList = []
    for i in range (4) :
        image = pipe(prompt=all_prompt, negative_prompt = neg_prompt).images[0]
        print("Image generated! Converting image ...")

        buffered = BytesIO()
        image.save(buffered, format="PNG")

        img_str.append(base64.b64encode(buffered.getvalue()).decode('utf-8'))
        # img_str = base64.b64encode(buffered.getvalue()).decode('utf-8')
        
        imageName = "data:image/png;base64," + img_str[i] #imageName = "data:image/png;base64," + img_str
        imageList.append(imageName)

        print(buffered)

    print("Sending image ...")
    return render_template('drawing.html', generated_image=imageList)


@app.route('/save_image', methods=['POST'])
def save_imgae():
  if request.form.get('action2') == '이 컷으로 만들기':
    num=request.form.get('selected_image')
    num = int(num)
    print(img_str[num])

    conn = psycopg2.connect(dbname='cnu_capstoneDB', user='root', password='root', host='svc.sel4.cloudtype.app', port=31127)
    cur = conn.cursor()
    

    title = request.form['title-input']
    #cur.execute("INSERT INTO test_img VALUES({0})".format(img_str))
    cur.execute("INSERT INTO test_img (img, title) VALUES (%s,%s)", (img_str[num],title))
    
    conn.commit()

    cur.close()
    conn.close()

    return render_template('drawing.html')
    

# Define custom filter for Base64 encoding
@app.template_filter('b64encode')
def base64_encode(value):
    return base64.b64encode(value).decode('utf-8')


# Update your route and template
@app.route('/gallery')
def display_images():
    conn = psycopg2.connect(dbname='cnu_capstoneDB', user='root', password='root', host='svc.sel4.cloudtype.app', port=31127)
    cur = conn.cursor()

    cur.execute("SELECT img,title FROM test_img")  # img와 title을 test_img에서 받아옴
    images= cur.fetchall()

    image_data_list = []
    title_data_list = []

    for image in images:
        image_data = image[0]
        title_data = image[1]
        image_data_list.append(base64.b64decode(image_data))
        title_data_list.append(title_data)
    


    cur.close()
    conn.close()

    return render_template('gallery.html', images=image_data_list, titles=title_data_list)


@app.route('/view_gallery')
def view_gallery():
    return render_template('gallery.html')

if __name__ == "__main__":
    app.run()
