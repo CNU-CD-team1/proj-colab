# 사전 세팅 

pip install diffusers==0.10.2 transformers scipy ftfy accelerate 

!pip install flask-ngrok

from google.colab import drive
drive.mount('/content/gdrive')

!mkdir -p /drive/ngrok-ssh
%cd /drive/ngrok-ssh
!wget https://bin.equinox.io/c/4VmDzA7iaHb/ngrok-stable-linux-amd64.zip -O ngrok-stable-linux-amd64.zip
!unzip -u ngrok-stable-linux-amd64.zip
!cp /drive/ngrok-ssh/ngrok /ngrok
!chmod +x /ngrok

!/ngrok authtoken 2PcydNXb0iMIztuXfz5JaCkVipv_27RqfVDiAwdQSJvKvZktC # 자신이 생성한 토큰 입력


# 프로그램 돌리는 부분 
from flask import Flask
from flask_ngrok import run_with_ngrok
from flask import Flask, render_template, send_file, request

import torch
from diffusers import StableDiffusionPipeline

import base64
from io import BytesIO

import psycopg2

pipe = StableDiffusionPipeline.from_pretrained("runwayml/stable-diffusion-v1-5", revision="fp16", torch_dtype=torch.float16)
pipe.to("cuda")

app = Flask(__name__, template_folder='/content/gdrive/MyDrive/project/templates/', static_folder='/content/gdrive/MyDrive/project/static', 
            static_url_path='/static')

run_with_ngrok(app)

@app.route('/')
def view_main():
    return render_template('index.html')


@app.route('/drawing')
def initial():
    # 이미지 URL 목록을 생성하거나 가져옴
    generated_image = [
        'static/images/default.png',
        'static/images/default.png',
        'static/images/default.png',
        'static/images/default.png'
    ]
    return render_template('drawing.html', generated_image=generated_image)

@app.route('/submit-caption', methods=['POST'])
def generate_image() :
    global img_str 
    global prompt 

    img_str = []
    # 이부분 "디즈니" 버튼 누른경우, 디즈니관련 프롬프트 추가되게 바꿀수도 있을듯 IF 문 쓰고 해서.. 
    pos_prompt = ', best quality, extremely detailed, 4k, hd, beautiful'
    neg_prompt = 'monochrome, lowres, bad anatomy, worst quality, low quality'

    prompt = request.form['caption-input']
    print(f"Generating an image of {prompt}")
  
    all_prompt = prompt + pos_prompt

    # 이미지 4개 생성
    global imageList
    imageList = []
    for i in range (4) :
        image = pipe(prompt=all_prompt, negative_prompt = neg_prompt).images[0]
        print("Image generated! Converting image ...")

        buffered = BytesIO()
        image.save(buffered, format="PNG")

        img_str.append(base64.b64encode(buffered.getvalue()).decode('utf-8'))
        # img_str = base64.b64encode(buffered.getvalue()).decode('utf-8')
        
        imageName = "data:image/png;base64," + img_str[i] #imageName = "data:image/png;base64," + img_str
        imageList.append(imageName)

        print(buffered)

    print("Sending image ...")
    return render_template('drawing.html', generated_image=imageList)


# 첫컷 생성 버튼 눌렀을때 동작 ( 작품 새로 생성 ) -> posts 도 하나 생성 & cuts 도 하나 생성  
@app.route('/save_image', methods=['POST'])
def save_imgae():
  if request.form.get('action2') == '이 컷으로 만들기':
    num=request.form.get('selected_image')
    num = int(num)
    print(img_str[num])

    conn = psycopg2.connect(dbname='cnu_capstoneDB', user='root', password='root', host='svc.sel4.cloudtype.app', port=31127)
    cur = conn.cursor()
    

    title = request.form['title-input']
    #cur.execute("INSERT INTO test_img VALUES({0})".format(img_str))

    #posts 테이블에 작품 명 업로드 
    cur.execute("INSERT INTO posts (post_name) VALUES (%s)", (title,))

    # 방금 저장한거의 posts 번호가져오기 #####맞는지 모르겠음.. 
    cur.execute("SELECT currval(pg_get_serial_sequence('posts', 'post_no'))")
    result = cur.fetchone()

    if result is not None:
        postNumber = result[0]
    else:
    # Handle the case when no result is fetched
      print("오류")

    conn.commit() # 데이터베이스에 대한 변경 사항을 저장하는 역할


    print(postNumber)
    postNumber = str(postNumber)

    #cuts 테이블에 post_no 가져온것  + 한컷 이미지 + 프롬프트값 + 첫컷여부  업로드 
    cur.execute("INSERT INTO cuts (post_no, img, cut_prompt,is_first) VALUES (%s,%s,%s,%s)", (postNumber,img_str[num],prompt,True)) # True 를 str( ) 해줘야할수도있음 
    


    conn.commit()

    cur.close()
    conn.close()

    return render_template('drawing.html')
    

# Define custom filter for Base64 encoding
@app.template_filter('b64encode')
def base64_encode(value):
    return base64.b64encode(value).decode('utf-8')


# Update your route and template
@app.route('/gallery')
def display_images():
    conn = psycopg2.connect(dbname='cnu_capstoneDB', user='root', password='root', host='svc.sel4.cloudtype.app', port=31127)
    cur = conn.cursor()


 
    #첫번째컷의 img 와 post_no 들을 다 불러옴 
    cur.execute("SELECT img,post_no FROM cuts WHERE is_first = True")
    images = cur.fetchall() # 가져온값을 리스트 형태로 반환 
    




    image_data_list = []
    title_data_list = []

    
    for image in images:

        #이미지를 리스트에 추가 
        image_data = image[0]
        image_data_list.append(base64.b64decode(image_data))
        
        #title 추출해서 리스트에 추가 
        post_no= image[1] # 이미지의 post_no 가져오기 

        cur.execute(f"SELECT post_name FROM posts WHERE post_no ={post_no}") 
        title_data= cur.fetchall()
        
        title_data_list.append(title_data[0][0])


    # 이미지 순서 -> 최신을 맨 앞에 보이도록 변경하는 코드
    image_data_list.reverse()
    title_data_list.reverse()

    cur.close()
    conn.close()

    return render_template('gallery.html', images=image_data_list, titles=title_data_list)


@app.route('/view_gallery')
def view_gallery():
    return render_template('gallery.html')

if __name__ == "__main__":
    app.run()
