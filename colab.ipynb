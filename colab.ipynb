from flask import Flask
from flask_ngrok import run_with_ngrok
from flask import Flask, render_template, send_file, request

import torch
from diffusers import StableDiffusionPipeline

import base64
from io import BytesIO

import psycopg2



pipe = StableDiffusionPipeline.from_pretrained("runwayml/stable-diffusion-v1-5", revision="fp16", torch_dtype=torch.float16)
pipe.to("cuda")

app = Flask(__name__, template_folder='/content/gdrive/MyDrive/project/templates/', static_folder='/content/gdrive/MyDrive/project/static', 
            static_url_path='/static')

run_with_ngrok(app)

@app.route('/')
def view_main():
    return render_template('index.html')


@app.route('/drawing')
def initial():
    # 이미지 URL 목록을 생성하거나 가져옴
    generated_image = [
        'static/images/default.png',
        'static/images/default.png',
        'static/images/default.png',
        'static/images/default.png'
    ]
    return render_template('drawing.html', generated_image=generated_image)

@app.route('/submit-caption', methods=['POST'])
def generate_image() :
    global img_str 
    global prompt 

    img_str = []
    # 이부분 "디즈니" 버튼 누른경우, 디즈니관련 프롬프트 추가되게 바꿀수도 있을듯 IF 문 쓰고 해서.. 
    pos_prompt = ', best quality, extremely detailed, 4k, hd, beautiful'
    neg_prompt = 'monochrome, lowres, bad anatomy, worst quality, low quality'

    prompt = request.form['caption-input']
    print(f"Generating an image of {prompt}")
  
    all_prompt = prompt + pos_prompt

    # 이미지 4개 생성
    global imageList
    imageList = []
    for i in range (4) :
        image = pipe(prompt=all_prompt, negative_prompt = neg_prompt).images[0]
        print("Image generated! Converting image ...")

        buffered = BytesIO()
        image.save(buffered, format="PNG")

        img_str.append(base64.b64encode(buffered.getvalue()).decode('utf-8'))
        # img_str = base64.b64encode(buffered.getvalue()).decode('utf-8')
        
        imageName = "data:image/png;base64," + img_str[i] #imageName = "data:image/png;base64," + img_str
        imageList.append(imageName)

        print(buffered)

    print("Sending image ...")
    return render_template('drawing.html', generated_image=imageList)


# 첫컷 생성 버튼 눌렀을때 동작 ( 작품 새로 생성 ) -> posts 도 하나 생성 & cuts 도 하나 생성  
# 코드리뷰해보고 좀 정리해야할필요 있을듯.. 
@app.route('/save_image_first', methods=['POST']) ##### 테스팅 완료
##네컷중에 하나만 db에 저장하는 구문 
 #(이미지만 cuts랑 posts 테이블에 저장하고,, 그 cuts id를 가져옴 )
def save_imgae_first(): # 테스팅 완료 
  #첫컷인 경우
  if request.form.get('action2') == '이 컷으로 만들기':# get('name') = 'value' 형으로 적어야하는듯 

    #4개중 한개 선택된 이미지의 인덱스값을 변수에 저장하는 부분 -> modify 페이지 생기면 수정 필요한 부분...(4개중 1개 선택하지 않고 이전 페이지에서 값을 받아오므로)
    num=request.form.get('selected_image')
    num = int(num)
    #print(img_str[num])

    conn = psycopg2.connect(dbname='cnu_capstoneDB', user='root', password='root', host='svc.sel4.cloudtype.app', port=31127)
    cur = conn.cursor()

    title = "생성중입니다."

    #posts 테이블에 작품 명 업로드 
    cur.execute("INSERT INTO posts (post_name) VALUES (%s)", (title,))

    # 방금 저장한거의 posts 번호가져오기
    cur.execute("SELECT currval(pg_get_serial_sequence('posts', 'post_no'))")
    result = cur.fetchone()

    if result is not None:
        postNumber = result[0]
    else:
    # Handle the case when no result is fetched
      print("방금 생성된 작품(post)id 호출 오류")

    conn.commit() # 데이터베이스에 대한 변경 사항을 저장하는 역할


    print(postNumber)
    postNumber = str(postNumber)
    encoded_image = img_str[num]

    #cuts 테이블에 1. post_no 가져온것  + 2. 한컷 이미지 + 3. 프롬프트값 + 4.컷순서(1)    업로드  
    cur.execute("INSERT INTO cuts (post_no, img, cut_prompt,cut_order) VALUES (%s,%s,%s,%s)", (postNumber,encoded_image,prompt,str(1))) 


    # 데이터베이스에 대한 변경 사항을 저장하는 역할
    conn.commit()

    cur.close()
    conn.close()

    return render_template('first_modify.html',image_data=encoded_image)


# first_modify 에서 저장할때 ( posts 네임 수정 & cut description 수정 )
# 제목 및 컷내용 저장
@app.route('/save_detail_first', methods=['POST'])
def save_detail_first():
  if request.form.get('action3') == 'S A V E': ### 이부분 다시 확인 .. 
    conn = psycopg2.connect(dbname='cnu_capstoneDB', user='root', password='root', host='svc.sel4.cloudtype.app', port=31127)
    cur = conn.cursor()


    # 방금 저장한거의 cut_no(컷의 id) 가져오기
    cur.execute("SELECT currval(pg_get_serial_sequence('cuts', 'cut_no'))")
    result = cur.fetchone()

    if result is not None:
        cutNumber = result[0]
    else:
    # Handle the case when no result is fetched
      print("방금 생성된 컷(cut)id 호출 오류")

    conn.commit() # 데이터베이스에 대한 변경 사항을 저장하는 역할

    # 컷 id 출력 확인 
    print(cutNumber)
    cutNumber = str(cutNumber)



    # 방금 저장한거의 post_no(컷의 post_no) 가져오기
    cur.execute("SELECT currval(pg_get_serial_sequence('cuts', 'post_no'))")
    result = cur.fetchone()

    if result is not None:
        postNumber = result[0]
    else:
    # Handle the case when no result is fetched
      print("방금 생성된 컷의 post_no 호출 오류")

    conn.commit() # 데이터베이스에 대한 변경 사항을 저장하는 역할


    # 작품 id 출력 확인 
    print(postNumber)
    cutNumber = str(postNumber)

    #제목 불러오기 
    title = request.form['title-input']
    # posts 테이블에 작품 명 업로드 update
    cur.execute("UPDATE INTO posts (post_name) VALUES (%s) WHERE cut_no=%s", (title,cutNumber))

    #컷설명 불러오기 
    cut = request.form['cut-input']
    # post id=***인 테이블에 컷설명 업로드
    cur.execute("UPDATE INTO cuts (cut_script) VALUES (%s) WHERE post_no=%s", (cut,postNumber))

    conn.commit()

    cur.close()
    conn.close()

    return render_template('gallery.html')

# Define custom filter for Base64 encoding
@app.template_filter('b64encode')
def base64_encode(value):
    return base64.b64encode(value).decode('utf-8')


# 갤러리페이지 보여주기 
@app.route('/gallery')
def display_images():
    conn = psycopg2.connect(dbname='cnu_capstoneDB', user='root', password='root', host='svc.sel4.cloudtype.app', port=31127)
    cur = conn.cursor()

 
    #첫번째컷의 img 와 post_no 들을 다 불러옴 
    cur.execute("SELECT img,post_no FROM cuts WHERE cut_order=1")
    images = cur.fetchall() # 가져온값을 리스트 형태로 반환 
    

    image_data_list = []
    title_data_list = []

    
    for image in images:

        #이미지를 리스트에 추가 
        image_data = image[0]
        image_data_list.append(base64.b64decode(image_data))
        
        #title 추출해서 리스트에 추가 
        post_no= image[1] # 이미지의 post_no 가져오기 

        cur.execute(f"SELECT post_name FROM posts WHERE post_no ={post_no}") 
        title_data= cur.fetchall()
        
        title_data_list.append(title_data[0][0])


    # 이미지 순서 -> 최신을 맨 앞에 보이도록 변경하는 코드
    image_data_list.reverse()
    title_data_list.reverse()

    cur.close()
    conn.close()

    return render_template('gallery.html', images=image_data_list, titles=title_data_list)

#투표수 변경 함수  (+1)
@app.route('/add_vote')
def add_vote():
  if request.form.get('action4') == 'add': ### 이부분 다시 확인 .. 
    conn = psycopg2.connect(dbname='cnu_capstoneDB', user='root', password='root', host='svc.sel4.cloudtype.app', port=31127)
    cur = conn.cursor()

    # 작품가져옴
    cur.execute("SELECT * FROM ")

    # cuts 테이블의 해당 작품의 vote_num 값을 +1 
    cur.execute("UPDATE INTO cuts (vote_num) VALUES (%s) WHERE cut_no=%s", (title,cutNumber))



#투표수 변경 함수  (-1)
@app.route('/sub_vote')


@app.route('/view_gallery')
def view_gallery():
    return render_template('gallery.html')

"""

def renewal():
    conn = psycopg2.connect(dbname='cnu_capstoneDB', user='root', password='root', host='svc.sel4.cloudtype.app', port=31127)
    cur = conn.cursor()


    cur.execute("select post_no, is_done from posts where is_done in('2', '3', '4')")
    datas = cur.fetchall() 

    post_no_list = []
    cut_order_list = []

    print(datas)

    
    for data in datas:

        post_no = int(data[0])
        cut_order = int(data[1])

        cur.execute(f"update cuts set cut_fixed = true where vote_num = (select max(vote_num) from cuts where post_no = {post_no} and cut_order = {cut_order})")

    cur.execute("update posts set is_done = posts.is_done + 1 where is_done in('2', '3', '4')")

    conn.commit()

    cur.close()
    conn.close()

scheduler = BackgroundScheduler()
scheduler.add_job(func=renewal, trigger="interval", hours=1)
scheduler.start()

# Shut down the scheduler when exiting the app
atexit.register(lambda: scheduler.shutdown())
"""

if __name__ == "__main__":
    app.run()
